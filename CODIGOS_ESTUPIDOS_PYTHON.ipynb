{
  "nbformat": 4,
  "nbformat_minor": 0,
  "metadata": {
    "colab": {
      "name": "CODIGOS ESTUPIDOS PYTHON.ipynb",
      "provenance": [],
      "collapsed_sections": [],
      "include_colab_link": true
    },
    "kernelspec": {
      "name": "python3",
      "display_name": "Python 3"
    },
    "language_info": {
      "name": "python"
    }
  },
  "cells": [
    {
      "cell_type": "markdown",
      "metadata": {
        "id": "view-in-github",
        "colab_type": "text"
      },
      "source": [
        "<a href=\"https://colab.research.google.com/github/exaiden/exaiden/blob/main/CODIGOS_ESTUPIDOS_PYTHON.ipynb\" target=\"_parent\"><img src=\"https://colab.research.google.com/assets/colab-badge.svg\" alt=\"Open In Colab\"/></a>"
      ]
    },
    {
      "cell_type": "markdown",
      "metadata": {
        "id": "IbcOiBi1mTTH"
      },
      "source": [
        "**LISTA DE CODIGOS EN PYTHON HECHOS POR UN SACOWEA ENTERO ABURRIDO**\n",
        "\n",
        "*   Calculadora simple\n",
        "*   Una conversacion chilena (incompleta)\n",
        "*   Reconocedor de mascotas (sirvió de base para la idea del juego de dados)\n",
        "*   Un juegos de apuestas con dados (tambien incompleto)\n",
        "\n"
      ]
    },
    {
      "cell_type": "markdown",
      "metadata": {
        "id": "aMK_y9EnmU3G"
      },
      "source": [
        ""
      ]
    },
    {
      "cell_type": "markdown",
      "metadata": {
        "id": "Be4MryQ9mVGk"
      },
      "source": [
        ""
      ]
    },
    {
      "cell_type": "markdown",
      "metadata": {
        "id": "Adq6x1jQnb5v"
      },
      "source": [
        ""
      ]
    },
    {
      "cell_type": "markdown",
      "metadata": {
        "id": "PF9p3FlHmVje"
      },
      "source": [
        ""
      ]
    },
    {
      "cell_type": "markdown",
      "metadata": {
        "id": "O_IYodWxN6aw"
      },
      "source": [
        "**⬇⬇⬇CALCULADORA SIMPLE⬇⬇⬇**"
      ]
    },
    {
      "cell_type": "code",
      "metadata": {
        "id": "lk5buwKLKCF2",
        "colab": {
          "base_uri": "https://localhost:8080/"
        },
        "outputId": "571be985-1816-4e33-ed12-914483a958f8"
      },
      "source": [
        "operations = [\"+\", \"-\", \"*\", \"/\"]\n",
        "otros = [\"a\", \"A\", \"b\", \"B\", \"c\", \"C\", \"d\", \"D\", \"e\", \"E\", \"f\", \"F\", \"g\", \"G\",\n",
        "         \"h\", \"H\", \"i\", \"I\", \"j\", \"J\", \"k\", \"K\", \"l\", \"L\", \"m\", \"M\", \"n\", \"N\",\n",
        "         \"ñ\", \"Ñ\", \"o\", \"O\", \"p\", \"P\", \"q\", \"Q\", \"r\", \"R\", \"s\", \"S\", \"t\", \"T\",\n",
        "         \"u\", \"U\", \"v\", \"V\", \"w\", \"W\", \"x\", \"X\", \"y\", \"Y\", \"z\", \"Z\", \"!\", \"#\",\n",
        "         \"$\", \"%\", \"&\", \"(\", \")\", \"=\", \"'\", \"?\", \"¿\", \"¡\", \"}\", \"]\", \"{\", \"[\",\n",
        "         \"_\", \"´\", \"¨\"]\n",
        "pi = [\"pi\", \"PI\", \"3.14159\", \"π\"]\n",
        "\n",
        "\n",
        "print(\"CALCULADORA SIMPLE\")\n",
        "\n",
        "num1 = input(\"Ingresa un número:  \")\n",
        "print(\"|\")\n",
        "if num1 in pi:\n",
        "  print(\"PI  =  π  =  3.14159...\")\n",
        "  print(\"Se abrevia como 3.14\")\n",
        "else:\n",
        "  op = input(\"Ingresa el tipo de operación (+ - * /):  \")\n",
        "  print(\"|\")\n",
        "  num2 = input(\"Ingresa otro numero:  \")\n",
        "  print(\"|\")\n",
        "  if num1 in otros:\n",
        "    print(\"☠##ERROR##☠\") \n",
        "    print(\"NO UTILIZASTE NÚMEROS\")\n",
        "  elif num2 in otros:\n",
        "    print(\"☠##ERROR##☠\") \n",
        "    print(\"NO UTILIZASTE NÚMEROS\")\n",
        "  else:\n",
        "    res1 = float (num1) + float (num2)\n",
        "    res2 = float (num1) - float (num2)\n",
        "    res3 = float (num1) * float (num2)\n",
        "    res4 = float (num1) / float (num2)\n",
        "\n",
        "    if op == operations[0]:\n",
        "      print(\"La operacion es: \", num1, op, num2  )\n",
        "      print(\"|\")\n",
        "      print(\"El resultado es: \", res1)\n",
        "    elif op == operations[1]:\n",
        "      print(\"La operacion es: \", num1, op, num2  )\n",
        "      print(\"|\")\n",
        "      print(\"El resultado es: \", res2)\n",
        "    elif op == operations[2]:\n",
        "      print(\"La operacion es: \", num1, op, num2  )\n",
        "      print(\"|\")\n",
        "      print(\"El resultado es: \", res3)\n",
        "    elif op == operations[3]:\n",
        "      print(\"La operacion es: \", num1, op, num2  )\n",
        "      print(\"|\")\n",
        "      print(\"El resultado es: \", res4)\n",
        "    else:\n",
        "      print(\"☠##ERROR##☠\")  \n",
        "      print(\"POR FAVOR INGRESAR UNA OPERACION DISPONIBLE\")"
      ],
      "execution_count": 8,
      "outputs": [
        {
          "output_type": "stream",
          "text": [
            "CALCULADORA SIMPLE\n",
            "Ingresa un número:  PI\n",
            "|\n",
            "PI  =  π  =  3.14159...\n",
            "Se abrevia como 3.14\n"
          ],
          "name": "stdout"
        }
      ]
    },
    {
      "cell_type": "markdown",
      "metadata": {
        "id": "9UnFbnXFmQLy"
      },
      "source": [
        ""
      ]
    },
    {
      "cell_type": "markdown",
      "metadata": {
        "id": "GEdV0ShCnf1H"
      },
      "source": [
        ""
      ]
    },
    {
      "cell_type": "markdown",
      "metadata": {
        "id": "JWHTgcZOnf_P"
      },
      "source": [
        ""
      ]
    },
    {
      "cell_type": "markdown",
      "metadata": {
        "id": "ICPon6W-mQPt"
      },
      "source": [
        ""
      ]
    },
    {
      "cell_type": "markdown",
      "metadata": {
        "id": "GwAWqMFbOfEC"
      },
      "source": [
        "**⬇⬇⬇⬇⬇CHAT⬇⬇⬇⬇⬇**"
      ]
    },
    {
      "cell_type": "code",
      "metadata": {
        "id": "URkpwFJEOr0m"
      },
      "source": [
        "#///////////////////////////////////////////////////////////////////////////////////////////\n",
        "\n",
        "# INGRESA TU NOMBRE\n",
        "nombre = input(\"Pone tu nombre luego po wn: \") \n",
        "\n",
        "# PRIMERA PREGUNDA\n",
        "PP = (f\"EL BOT:  Weeena po, {nombre} culiao, ¿cuanto tiempo ke no nos vemos wn?\")\n",
        "\n",
        "# SEGUNDA PREGUNTA\n",
        "SP = (\"EL BOT:  ¿y como esta la familia?\")\n",
        "\n",
        "# RESPUESTA PRIMERA PREGUNTA 1\n",
        "RPP1 = [\"no se\",                    #0\n",
        "        \"no se po\",                 #1\n",
        "        \"no se hermano\",            #2\n",
        "        \"no se hermanito\",          #3\n",
        "        \"no se ermano\",             #4\n",
        "        \"no se ermanito\",           #5\n",
        "        \"no se mano\",               #6\n",
        "        \"no se manito\",             #7\n",
        "        \"no se po hermano\",         #8\n",
        "        \"no se po hermanito\",       #9\n",
        "        \"no se po ermano\",          #10\n",
        "        \"no se po ermanito\",        #11\n",
        "        \"no se po mano\",            #12\n",
        "        \"no se po manito\",          #13\n",
        "        \"no se compa\",              #14\n",
        "        \"no se po compa\",           #15\n",
        "        \"no se po mi compa\",        #16\n",
        "        \"no se mi pana\",            #17\n",
        "        \"no se po mi pana\",         #18\n",
        "        \"no se man\",                #19\n",
        "        \"no se po man\",             #20\n",
        "        \"no me acuerdo\",            #21\n",
        "        \"no me acuerdo man\",        #22\n",
        "        \"no me acuerdo wn\",         #23\n",
        "        \"no se po wn\",              #24\n",
        "        \"no se wn\"                  #25\n",
        "]\n",
        "\n",
        "# RESPUESTA PRIMERA PREGUNTA 2\n",
        "RPP2 = [\"caleta\",                   #1\n",
        "        \"caleta wn\",                #2\n",
        "        \"caleta hermano\",           #3\n",
        "        \"caleta hermanito\",         #4\n",
        "        \"caleta ermano\",            #5\n",
        "        \"caleta ermanito\",          #6\n",
        "        \"caleta mano\",              #7\n",
        "        \"caleta manito\",            #8\n",
        "        \"caleta mi pana\",           #9\n",
        "        \"hace caleta\",              #10\n",
        "        \"hace caleta wn\",           #11\n",
        "        \"hace caleta hermano\",      #12\n",
        "        \"hace caleta hermanito\",    #13\n",
        "        \"hace caleta ermano\",       #14\n",
        "        \"hace caleta ermanito\",     #15\n",
        "        \"hace caleta mano\",         #16\n",
        "        \"hace caleta manito\",       #17\n",
        "        \"hace caleta mi pana\",      #18\n",
        "        \"hace mucho\",               #19\n",
        "        \"hace mucho wn\",            #20\n",
        "        \"hace mucho hermano\",       #21\n",
        "        \"hace mucho hermanito\",     #22\n",
        "        \"hace mucho ermano\",        #23\n",
        "        \"hace mucho ermanito\",      #24\n",
        "        \"hace mucho mano\",          #25\n",
        "        \"hace mucho manito\",        #26\n",
        "        \"hace mucho mi pana\",       #27\n",
        "        \"de caleta\",                #28\n",
        "        \"de caleta wn\",             #29\n",
        "        \"de caleta hermano\",        #30\n",
        "        \"de caleta hermanito\",      #31\n",
        "        \"de caleta ermano\",         #32\n",
        "        \"de caleta ermanito\",       #33\n",
        "        \"de caleta mano\",           #34\n",
        "        \"de caleta manito\",         #35\n",
        "        \"de caleta mi pana\",        #36\n",
        "        \"de hace caleta\",           #37\n",
        "        \"de hace caleta wn\",        #38\n",
        "        \"de hace caleta hermano\",   #39\n",
        "        \"de hace caleta hermanito\", #40\n",
        "        \"de hace caleta ermano\",    #41\n",
        "        \"de hace caleta ermanito\",  #42\n",
        "        \"de hace caleta mano\",      #43\n",
        "        \"de hace caleta manito\",    #44\n",
        "        \"de hace caleta mi pana\",   #45\n",
        "        \"de hace mucho\",            #46\n",
        "        \"de hace mucho wn\",         #47\n",
        "        \"de hace mucho hermano\",    #48\n",
        "        \"de hace mucho hermanito\",  #49\n",
        "        \"de hace mucho ermano\",     #50\n",
        "        \"de hace mucho ermanito\",   #51\n",
        "        \"de hace mucho mano\",       #52\n",
        "        \"de hace mucho manito\",     #53\n",
        "        \"de hace mucho mi pana\",    #54\n",
        "]\n",
        "\n",
        "# RESPUESTA SEGUNDA PREGUNTA 1\n",
        "RSP1 = [\"no se\",                    #0\n",
        "        \"no se po\",                 #1\n",
        "        \"no se hermano\",            #2\n",
        "        \"no se hermanito\",          #3\n",
        "        \"no se ermano\",             #4\n",
        "        \"no se ermanito\",           #5\n",
        "        \"no se mano\",               #6\n",
        "        \"no se manito\",             #7\n",
        "        \"no se po hermano\",         #8\n",
        "        \"no se po hermanito\",       #9\n",
        "        \"no se po ermano\",          #10\n",
        "        \"no se po ermanito\",        #11\n",
        "        \"no se po mano\",            #12\n",
        "        \"no se po manito\",          #13\n",
        "        \"no se compa\",              #14\n",
        "        \"no se po compa\",           #15\n",
        "        \"no se po mi compa\",        #16\n",
        "        \"no se mi pana\",            #17\n",
        "        \"no se po mi pana\",         #18\n",
        "        \"no se man\",                #19\n",
        "        \"no se po man\",             #20\n",
        "        \"no me acuerdo\",            #21\n",
        "        \"no me acuerdo man\",        #22\n",
        "        \"no me acuerdo wn\",         #23\n",
        "        \"no se po wn\"               #24\n",
        "]\n",
        "\n",
        "# RESPUESTA SEGUNDA PREGUNTA 2\n",
        "RSP2 = [\"bien\", \"todo bien\", \"todos bien\", \"de pana\", \" d pana\", \"la raja\", \"ok\", \"todo ok\", \"todos ok\"]\n",
        "\n",
        "# LA PALABRA DE DIOS 🙏\n",
        "DIOS1 = \"DIOS🙏:  Nooo man la cagaste po wn, pusiste algo nada que ver 🤦‍♂️, vas a tener que empezar de nuevo\"\n",
        "DIOS2 = \"DIOS🙏:  escribe cualquier cosa para empezar de nuevo\"\n",
        "DIOS3 = \"DIOS🙏:  Jaja el klo weon, aún no es automatica la wea😂, teni que buscar el boton pa empezar de nuevo\"\n",
        "\n",
        "\n",
        "\n",
        "#PRIMERA PREGUNTA\n",
        "print(PP)\n",
        "Respuesta1 = input(f\"YO:  \")\n",
        "if Respuesta1 in RPP1:\n",
        "    print(\"EL BOT:  Txaaa ermano como tan asi?\")\n",
        "    print(\"EL BOT:  Ta belico el alsaimer parece🙄\")\n",
        "    print(\"EL BOT:  Tai peor ke mi tata wn\")\n",
        "    #SEGUNDA PREGUNTA\n",
        "    print(SP)\n",
        "    Respuesta2 = input(f\"YO:  \")\n",
        "    if Respuesta2 in RSP1:\n",
        "        print(\"EL BOT:  ¿me estai webiando?\")\n",
        "    elif Respuesta2 in RSP2:\n",
        "        print(\"EL BOT:  Weena\")\n",
        "    else:\n",
        "        print(DIOS1)\n",
        "        print(DIOS2)\n",
        "        RespuestaDIOS = input(f\"YO:  \")\n",
        "        print(DIOS3)\n",
        "elif Respuesta1 in RPP2:\n",
        "    print(\"EL BOT:  siono?, ha pasao caleta wn\")\n",
        "    print(\"EL BOT:  estai mas waton ahora mi pana😂\")\n",
        "    #SEGUNDA PREGUNTA\n",
        "    print(SP)\n",
        "    Respuesta2 = input(f\"YO:  \")\n",
        "    if Respuesta2 in RSP1:\n",
        "        print(\"EL BOT:  ¿me estai webiando?\")\n",
        "    elif Respuesta2 in RSP2:\n",
        "        print(\"EL BOT:  Weena\")\n",
        "    else:\n",
        "        print(DIOS1)\n",
        "        print(DIOS2)\n",
        "        RespuestaDIOS = input(f\"YO:  \")\n",
        "        print(DIOS3)\n",
        "else:\n",
        "  print(DIOS1)\n",
        "  print(DIOS2)\n",
        "  RespuestaDIOS = input(f\"YO:  \")\n",
        "  print(DIOS3)"
      ],
      "execution_count": null,
      "outputs": []
    },
    {
      "cell_type": "markdown",
      "metadata": {
        "id": "vjKL8OoJnhn9"
      },
      "source": [
        ""
      ]
    },
    {
      "cell_type": "markdown",
      "metadata": {
        "id": "w91nUiYBnh0_"
      },
      "source": [
        ""
      ]
    },
    {
      "cell_type": "markdown",
      "metadata": {
        "id": "qQdIjHmumNoh"
      },
      "source": [
        ""
      ]
    },
    {
      "cell_type": "markdown",
      "metadata": {
        "id": "nqQrVYBfmNt0"
      },
      "source": [
        ""
      ]
    },
    {
      "cell_type": "markdown",
      "metadata": {
        "id": "W0_aCRs8dPyg"
      },
      "source": [
        "**⬇⬇⬇⬇⬇RECONOCEDOR⬇⬇⬇⬇⬇**"
      ]
    },
    {
      "cell_type": "code",
      "metadata": {
        "id": "NGcIjX8Wda3R"
      },
      "source": [
        "Y_N = [\"si\", \"no\"]\n",
        "\n",
        "nombre = input(\"Introduce tu nombre:  \")\n",
        "animal = input(\"Introduce a tu animal:  \")\n",
        "color = input(\"Introduce el color de tu animal:  \")\n",
        "print(f\"EL BOT:  Ah, ahí está {nombre} con su {animal}\")\n",
        "print(f\"EL BOT:  Su {animal} tiene un bonito color {color}\")\n",
        "print(f\"EL BOT:  ¿Puedo acariciar a tu {animal}?\")\n",
        "Respuesta1 = input(\"\")\n",
        "if Respuesta1 == Y_N[0]:\n",
        "  print(f\"EL BOT:  *acaricia a tu {animal}*😍\" )\n",
        "  print(f\"TU {animal}:  *Huele la mano del bot*\")\n",
        "  print(f\"TU {animal}:  ¿QUE WEA? *se enoja*\")\n",
        "  print(f\"TU {animal}:  *Muerde la mano del bot*\")\n",
        "  print(\"EL BOT:  * Se muere*\")\n",
        "  print(\"......FIN.......\")\n",
        "elif Respuesta1 == Y_N[1]:\n",
        "  print(f\"EL BOT:  *llora mirando a tu {animal}*😖\" )\n",
        "  print(\"......FIN.......\")\n",
        "else:\n",
        "  print(\"#########ERROR########\")\n",
        "  print(\"DEBES ESCRIBIR SI O NO\")"
      ],
      "execution_count": null,
      "outputs": []
    },
    {
      "cell_type": "markdown",
      "metadata": {
        "id": "Kh94314KnjYG"
      },
      "source": [
        ""
      ]
    },
    {
      "cell_type": "markdown",
      "metadata": {
        "id": "-HnafUM5njbS"
      },
      "source": [
        ""
      ]
    },
    {
      "cell_type": "markdown",
      "metadata": {
        "id": "GSJFeS3KmI_8"
      },
      "source": [
        ""
      ]
    },
    {
      "cell_type": "markdown",
      "metadata": {
        "id": "BUzBqnBWmJiZ"
      },
      "source": [
        ""
      ]
    },
    {
      "cell_type": "markdown",
      "metadata": {
        "id": "iTccFTQhM1c5"
      },
      "source": [
        "---------------------------------------------------------------------------------------------------------------------------------------------------------------------------------------------------------------------------------------\n"
      ]
    },
    {
      "cell_type": "markdown",
      "metadata": {
        "id": "yTmGrcZTNZF1"
      },
      "source": [
        "**⬇⬇⬇JUEGO DE DADOS⬇⬇⬇**"
      ]
    },
    {
      "cell_type": "code",
      "metadata": {
        "id": "r9dt4vQVM4-f"
      },
      "source": [
        "#///////////////////////////////////////////////////////////////////////////////////////////////\n",
        "import random\n",
        "operations = [\"+\", \"-\", \"*\"]\n",
        "otros = [\"a\", \"b\", \"c\", \"d\", \"e\", \"f\", \"g\", \"h\", \"i\", \"j\", \"k\", \"l\", \"m\", \"n\",\n",
        "         \"ñ\", \"o\", \"p\", \"q\", \"r\", \"s\", \"t\", \"u\", \"v\", \"w\", \"x\", \"y\", \"z\", \"!\",\n",
        "         \"#\", \"$\", \"%\", \"&\", \"(\", \")\", \"=\", \"'\", \"?\", \"¿\", \"¡\", \"}\", \"]\", \"{\",\n",
        "         \"[\", \"_\", \"´\", \"¨\"]\n",
        "\n",
        "dinero = [\"1\", \"2\", \"3\", \"4\", \"5\", \"6\", \"7\", \"8\", \"9\", \"10\", \n",
        "          \"11\", \"12\", \"13\", \"14\", \"15\", \"16\", \"17\", \"18\", \"19\", \"20\",\n",
        "          \"21\", \"22\", \"23\", \"24\", \"25\", \"26\", \"27\", \"28\", \"29\", \"30\", \n",
        "          \"31\", \"32\", \"33\", \"34\", \"35\", \"36\", \"37\", \"38\", \"39\", \"40\", \n",
        "          \"41\", \"42\", \"43\", \"44\", \"45\", \"46\", \"47\", \"48\", \"49\", \"50\", \n",
        "          \"51\", \"52\", \"53\", \"54\", \"55\", \"56\", \"57\", \"58\", \"59\", \"60\", \n",
        "          \"61\", \"62\", \"63\", \"64\", \"65\", \"66\", \"67\", \"68\", \"69\", \"70\", \n",
        "          \"71\", \"72\", \"73\", \"74\", \"75\", \"76\", \"77\", \"78\", \"79\", \"80\", \n",
        "          \"81\", \"82\", \"83\", \"84\", \"85\", \"86\", \"87\", \"88\", \"89\", \"90\", \n",
        "          \"91\", \"92\", \"93\", \"94\", \"95\", \"96\", \"97\", \"98\", \"99\", \"100\"]\n",
        "prestamo = int (100)\n",
        "Y_N = [\"si\", \"no\"]\n",
        "DIFICULTAD = [\"facil\", \"dificil\"]\n",
        "dadoEZ = [\"1\", \"2\", \"3\", \"4\", \"5\", \"6\"]\n",
        "dadoHD = [\"1\", \"2\", \"3\", \"4\", \"5\", \"6\", \"7\", \"8\", \"9\", \"10\", \"11\", \"12\"]\n",
        "\n",
        "#EZGAME es el lanzamiento del dado en modo facil\n",
        "EZGAME = random.randint(1, 6)\n",
        "#HDGAME es el lanzamiento del dado en modo dificil\n",
        "HDGAME = random.randint(1,12)\n",
        "\n",
        "\n",
        "print(\".\")\n",
        "print(\".\")\n",
        "print(\".\")\n",
        "print(\"DIOS🙏:  ¡ADVERTECIA! este juego aun no está terminado\")\n",
        "print(\"DIOS🙏:  no esperes que funcione correctamente.\")\n",
        "print(\".\")\n",
        "print(\".\")\n",
        "print(\".\")\n",
        "print(\".\")\n",
        "print(\".\")\n",
        "print(\".\")\n",
        "print(\".\")\n",
        "print(\"EL BOT:  BIENVENID@ A NUESTRO JUEGO DE APUESTAS😜\")\n",
        "nombre = input(\"EL BOT:  POR FAVOR DIME TU NOMBRE:  \")\n",
        "print(\".\")\n",
        "print(\".\")\n",
        "print(\".\")\n",
        "print(f\"EL BOT:  ¡{nombre}!, MUCHO GUSTO DE CONOCERTE😃\")\n",
        "print(\".\")\n",
        "print(f\"EL BOT:  AHORA {nombre}, ESCUCHA ATENTAMENTE\")\n",
        "print(\".\")\n",
        "print(\"EL BOT:  TE DIRÉ LAS INSTRUCCIONES DE COMO SE JUEGA ESTO\")\n",
        "print(\".\")\n",
        "print(\"EL BOT:  VERÁS LO FACIL Y DIVERTIDO QUE ES😁\")\n",
        "print(\".\")\n",
        "print(\".\")\n",
        "RP1 = input(\"EL BOT:  ¿TE INTERESA?:  \")\n",
        "print(\".\")\n",
        "print(\".\")\n",
        "\n",
        "#RP1 es la Respuesta a la Pregunta 1\n",
        "if RP1 == Y_N[1]:\n",
        "  print(\"EL BOT:  OH!, OK, QUE LASTIMA\")\n",
        "  print(f\"EL BOT:  PERO RECUERDA {nombre}, QUE SIEMPRE SERÁS BIENVENID@🤝\")\n",
        "  print(\"EL BOT: ¡ADIOOOS, VUELVE PRONTO!\")\n",
        "elif RP1 == Y_N[0]:\n",
        "  print(\"EL BOT:  ESTE ES UN JUEGO DE DADOS EN DONDE APUESTAS QUE NUMERO APARECERÁ\")\n",
        "  print(\".\")\n",
        "  print(\"EL BOT:  ESTE JUEGO TIENE DIFICULTAD FACIL Y DIFICIL\")\n",
        "  print(\".\")\n",
        "  print(\"EL BOT:  EL JUEGO FACIL TIENE SOLO 1 DADO\")\n",
        "  print(\"EL BOT:  EL DIFICIL TIENE 2 DADOS\")\n",
        "  print(\".\")\n",
        "  print(\"EL BOT:  EN FACIL DEBES DE ESCOJER 1 NUMERO DE ENTRE 6 POSIBILIDADES\")\n",
        "  print(\"EL BOT:  EN DIFICIL DEBES ESCOJER 1 DE ENTRE 12\")\n",
        "  print(\".\")\n",
        "  print(\"EL BOT:  SI GANAS, TE LLEVAS EL DOBLE DE LO QUE APOSTASTE🤑\")\n",
        "  print(\"EL BOT:  SI PiERDES, pErDErA5 ToD0 LO QUE APOSTASTE😱\")\n",
        "  print(\".\")\n",
        "  print(\"EL BOT:  COMO SABRÁS, HAY MUCHOS LUGARES EN EL QUE APOSTAR ES MALO\")\n",
        "  print(\"EL BOT:  ASI QUE PARA EVITARTE PROBLEMAS CON LAS AUTORIDADES\")\n",
        "  print(\"EL BOT:  NOS0TR0S TE pRESTAReM°S EL D1NER0, SON SOLO $100😇\")\n",
        "  print(\".\")\n",
        "  print(\"EL BOT:  RECUERDA QUE TE CoBRaREm0S LOs $1oo CUANDO TERMINES\")\n",
        "  print(f\"EL BOT:  DESCUIDA {nombre}, SI GANAS SOLO 1 PARTIDA YA NOS PuEDES pAgAR👍\")\n",
        "  print(\".\")\n",
        "  print(\".\")\n",
        "  print(\"EL BOT:  Ṕ̰̭͔͖̪̽ͣ́ͅĘ̻͗̉r̗̺͈̅̚͠O̡͖̮̥̼̼̻͖ͤͨ ̡̐ͅR͈̞̤͈̼͐͟e̡̞̥̬͍C̴̳͚̬̭̓͋̍͆̀̚Ư̙̦͔̓̂e̢R͇̐D̓͑̌̎̀̾͑A̸͎͙̗̮̟̪͎͐ͯ ̖̜̯ͨ̈́̓q̓͒ͬŲ̰̹̰͐͌̃̾̚Ẹ͆̃ͨ͐̔̽ ̑͋́ͭ͡D̲͇̖̑ͪḘ̗͈̮̩̦͎̆̈͛͒b̠̹̦̎E͈̥̠̙̖̳͕̅͂ͣ͐̓̋̕s ̨͔̞̦P͖̈́̎̈̈̔͞a̴͖͉̖̰ͪg͈̥̱͓Ả͎̝̣̞̬͇͕̆̋R̆̀́̊̈́̈́̈☠\")\n",
        "  print(\".\")\n",
        "  print(\".\")\n",
        "  print(\".\")\n",
        "  print(\".\")\n",
        "  RP2 = input(\"EL BOT:  ENTONCES... ¿QUIERES JUGAR?😊:  \")\n",
        "\n",
        "  #RP2 es la Respuesta a la Pregunta 2 \n",
        "  if RP2 == Y_N[1]:\n",
        "    print(\"EL BOT:  OH!, OK, QUE LASTIMA\")\n",
        "    print(f\"EL BOT:  PERO RECUERDA {nombre}, QUE ̬̺ͦ́̿̑͛̍S̮̖̙̪͛̌ͅI̼̟̭ͯͨͭ͂̍È̟͚͇͇̱̓͆͐ͦ̚M̬̯͓͖͎̣͊̊̋ͬP̘̼͖̙͍͖̏̍Ṙ͚͓̖͇̝̊ͮE͉̱̓̓̊ ̋̑ͥͧ̊̚S̟̮̜̹͓̮ͅEͦ͋̿̅̅R̮̠͒ͦ͒̏Á̳̭̫̦̾̅S̮̲̱͍̜ ̂̉̑B̼̓́̔͑Ḭ͖͌ͨ͒̎ͬȄ̤̙͚̳̾ͨͬN̰̙̞̩͍̹ͦ͛̃̿̾̄V̠͓̦͚͕̪̅̅͗̄̃̽̽Ë́͑̐̎NI̩̟̼ͬ̍D̄ͦͭ͊̄̚@🤝\")\n",
        "    print(\"EL BOT: ¡ADIOOOS, VUELVE PRONTO!\")\n",
        "  elif RP2 == Y_N[0]:\n",
        "    print(f\"EL BOT:  ¡EXELENTE ELECCIÓN {nombre}!😃\")\n",
        "    print(\"EL BOT:  ¡ESPERO QUE TE DIVIERTAS Y GANES MUCHO!\")\n",
        "    print(\".\")\n",
        "    print(\"EL BOT:  YA TIENES LOS $100\")\n",
        "\n",
        "    #RP3 es la Respuesta a la Pregunta 3\n",
        "    RP3 = input(\"EL BOT:  ¿QUIERES JUEGA FACIL O DIFICIL?: \")\n",
        "    print(\".\")\n",
        "    print(\".\")\n",
        "    print(\".\")\n",
        "########################################################################################################################\n",
        "########################################################################################################################\n",
        "########################################################################################################################\n",
        "    if RP3 == DIFICULTAD[0]:\n",
        "      print(f\"EL BOT:  OK {nombre}, EMPECEMOS CON JUEGO SENCILLO😊\")\n",
        "      print(\".\")\n",
        "      #apuesta es la cantidad de dinero que vas a apostar\n",
        "      apuesta = input(f\"EL BOT:  ENTONCES {nombre}... ¿CUANTO QUIERES APOSTAR?:  \")\n",
        "      print(\".\")\n",
        "      print(\".\")\n",
        "      print(\".\")\n",
        "      if apuesta in dinero:\n",
        "        print(\"EL BOT:  TU APUESTA ES DE $\", apuesta)\n",
        "        print(\".\")\n",
        "\n",
        "        #eleccion es el numero del dado que elejiste\n",
        "        eleccion = input(\"EL BOT:  ¿A QUE NÚMERO, DEL 1 AL 6, LE VAZ A APOSTAR?:  \")\n",
        "        print(\".\")\n",
        "        print(\".\")\n",
        "        print(\".\")\n",
        "        if eleccion in dadoEZ:\n",
        "          print(f\"EL BOT:  TU APUESTA ES DE ${apuesta} AL NÚMERO {eleccion}\")\n",
        "          print(\".\")\n",
        "          \n",
        "          #confir es si confirmas lo que se dice\n",
        "          confir = input(\"EL BOT:  ¿ES CORRECTO?:  \")\n",
        "          if confir == Y_N[0]:\n",
        "            print(\"EL BOT:  ¡OK, EMPECEMOS!\")\n",
        "            print(\".\")\n",
        "            print(\".\")\n",
        "            print(\".\")\n",
        "            print(\".\")\n",
        "            print(\".\")\n",
        "            print(\"EL BOT:  Y EL DADO MARCA....\", EZGAME, \"!\")\n",
        "            print(\".\")\n",
        "            if EZGAME == eleccion:\n",
        "              print(f\"EL BOT:  ¡FELICITACIONES {nombre}!, GANASTE ${apuesta}🤑\")\n",
        "              print(\"EL BOT:  AHORA TIENES $\", apuesta * 2, \"EXTRAS\")\n",
        "              print(\".\")\n",
        "              print(\".\")\n",
        "              RES1_1 = int (apuesta) * 2 \n",
        "              RES1_2 = RES1_1 + (apuesta - prestamo)\n",
        "              print(\"EL BOT:  AHORA TU DINERO TOTAL ES $\", RES1_2)\n",
        "              print(\"EL BOT: GRACIAS POR JUGAR\")\n",
        "            else:\n",
        "              print(f\"EL BOT:  QUE LASTIMA {nombre}, PERDISTE ${apuesta}\")\n",
        "              print(f\"EL BOT:  AHORA TIENES ${apuesta} MENOS\")\n",
        "              print(\".\")\n",
        "              print(\".\")\n",
        "              RES1_1 = prestamo -  int (apuesta)\n",
        "              print(\"EL BOT:  AHORA TU DINERO TOTAL ES $\", RES1_1)\n",
        "              print(\"EL BOT:  GRACIAS POR JUGAR\")\n",
        "\n",
        "            #empezo el juego\n",
        "          else:\n",
        "            print(\"EL BOT:  TENDRÁS QUE EMPEZAR DE NUEVO\")\n",
        "            print(\"DIOS🙏:  Nooo man la cagaste po wn, pusiste algo nada que ver 🤦‍♂️, vas a tener que empezar de nuevo\")\n",
        "            print(\"DIOS🙏:  escribe cualquier cosa para empezar de nuevo\")\n",
        "            RespuestaDIOS = input(\"\")\n",
        "            print(\"DIOS🙏:  Jaja el klo weon, aún no es automatica la wea😂, teni que buscar el boton pa empezar de nuevo\")\n",
        "\n",
        "          \n",
        "        else:\n",
        "          print(\"EL BOT:  NO SE PUEDE APOSTAR A ESE NÚMERO\")\n",
        "          print(\"DIOS🙏:  Nooo man la cagaste po wn, pusiste algo nada que ver 🤦‍♂️, vas a tener que empezar de nuevo\")\n",
        "          print(\"DIOS🙏:  escribe cualquier cosa para empezar de nuevo\")\n",
        "          RespuestaDIOS = input(\"\")\n",
        "          print(\"DIOS🙏:  Jaja el klo weon, aún no es automatica la wea😂, teni que buscar el boton pa empezar de nuevo\")\n",
        "      else:\n",
        "        print(\"EL BOT:  ESTO NO SE PUEDE APOSTAR\")\n",
        "        print(\"DIOS🙏:  Nooo man la cagaste po wn, pusiste algo nada que ver 🤦‍♂️, vas a tener que empezar de nuevo\")\n",
        "        print(\"DIOS🙏:  escribe cualquier cosa para empezar de nuevo\")\n",
        "        RespuestaDIOS = input(\"\")\n",
        "        print(\"DIOS🙏:  Jaja el klo weon, aún no es automatica la wea😂, teni que buscar el boton pa empezar de nuevo\")\n",
        "\n",
        "\n",
        "########################################################################################################################\n",
        "########################################################################################################################\n",
        "########################################################################################################################\n",
        "    elif RP3 == DIFICULTAD[1]:\n",
        "      print(f\"EL BOT:  OK {nombre}, VAMOS A LO ARRIESGADO😎\")\n",
        "      print(\".\")\n",
        "\n",
        "      #apuesta es la cantidad de dinero que vas a apostar\n",
        "      apuesta = input(f\"EL BOT:  ENTONCES {nombre}... ¿CUANTO QUIERES APOSTAR?:  \")\n",
        "      print(\".\")\n",
        "      print(\".\")\n",
        "      print(\".\")\n",
        "      if apuesta in dinero:\n",
        "        print(\"EL BOT:  TU APUESTA ES DE $\", apuesta)\n",
        "        print(\".\")\n",
        "\n",
        "        #eleccion es el numero del dado que elejiste\n",
        "        eleccion = input(\"EL BOT:  ¿A QUE NÚMERO, DEL 1 AL 12, LE VAZ A APOSTAR?:  \")\n",
        "        print(\".\")\n",
        "        print(\".\")\n",
        "        print(\".\")\n",
        "        if eleccion in dadoHD:\n",
        "          print(f\"EL BOT:  TU APUESTA ES DE ${apuesta} AL NÚMERO {eleccion}\")\n",
        "          print(\".\")\n",
        "          \n",
        "          #confir es si confirmas lo que se dice\n",
        "          confir = input(\"EL BOT:  ¿ES CORRECTO?:  \")\n",
        "          if confir == Y_N[0]:\n",
        "            print(\"EL BOT:  ¡OK, EMPECEMOS!\")\n",
        "            print(\".\")\n",
        "            print(\".\")\n",
        "            print(\".\")\n",
        "            print(\".\")\n",
        "            print(\".\")\n",
        "            print(\"EL BOT:  Y EL DADO MARCA....\", EZGAME, \"!\")\n",
        "            print(\".\")\n",
        "            if EZGAME == eleccion:\n",
        "              print(f\"EL BOT:  ¡FELICITACIONES {nombre}!, GANASTE ${apuesta}🤑\")\n",
        "              print(\"EL BOT:  AHORA TIENES $\", apuesta * 2, \"EXTRAS\")\n",
        "              print(\".\")\n",
        "              print(\".\")\n",
        "              RES1_1 = int (apuesta) * 2 \n",
        "              RES1_2 = RES1_1 + (apuesta - prestamo)\n",
        "              print(\"EL BOT:  AHORA TU DINERO TOTAL ES $\", RES1_2)\n",
        "              print(\"EL BOT: GRACIAS POR JUGAR\")\n",
        "            else:\n",
        "              print(f\"EL BOT:  QUE LASTIMA {nombre}, PERDISTE ${apuesta}\")\n",
        "              print(f\"EL BOT:  AHORA TIENES ${apuesta} MENOS\")\n",
        "              print(\".\")\n",
        "              print(\".\")\n",
        "              RES1_1 = prestamo -  int (apuesta)\n",
        "              print(\"EL BOT:  AHORA TU DINERO TOTAL ES $\", RES1_1)\n",
        "              print(\"EL BOT:  GRACIAS POR JUGAR\")\n",
        "\n",
        "            #empezo el juego\n",
        "          else:\n",
        "            print(\"DIOS🙏:  TENDRÁS QUE EMPEZAR DE NUEVO\")\n",
        "            print(\"DIOS🙏:  escribe cualquier cosa para empezar de nuevo\")\n",
        "            RespuestaDIOS = input(\"\")\n",
        "            print(\"DIOS🙏:  Jaja el klo weon, aún no es automatica la wea😂, teni que buscar el boton pa empezar de nuevo\")\n",
        "\n",
        "          \n",
        "        else:\n",
        "          print(\"EL BOT:  NO SE PUEDE APOSTAR A ESE NÚMERO\")\n",
        "          print(\"DIOS🙏:  Nooo man la cagaste po wn, pusiste algo nada que ver 🤦‍♂️, vas a tener que empezar de nuevo\")\n",
        "          print(\"DIOS🙏:  escribe cualquier cosa para empezar de nuevo\")\n",
        "          RespuestaDIOS = input(\"\")\n",
        "          print(\"DIOS🙏:  Jaja el klo weon, aún no es automatica la wea😂, teni que buscar el boton pa empezar de nuevo\")\n",
        "      else:\n",
        "        print(\"EL BOT:  ESTO NO SE PUEDE APOSTAR\")\n",
        "        print(\"DIOS🙏:  Nooo man la cagaste po wn, pusiste algo nada que ver 🤦‍♂️, vas a tener que empezar de nuevo\")\n",
        "        print(\"DIOS🙏:  escribe cualquier cosa para empezar de nuevo\")\n",
        "        RespuestaDIOS = input(\"\")\n",
        "        print(\"DIOS🙏:  Jaja el klo weon, aún no es automatica la wea😂, teni que buscar el boton pa empezar de nuevo\")\n",
        "    else:\n",
        "      print(\"DIOS🙏:  Nooo man la cagaste po wn, pusiste algo nada que ver 🤦‍♂️, vas a tener que empezar de nuevo\")\n",
        "      print(\"DIOS🙏:  Bueno, quizas fué lo mejor, se veía muy sospechoso ese BOT😰\")\n",
        "      print(\"DIOS🙏:  A bueno que importa, para empezar de nuevo escribe cualquier cosa\")\n",
        "      RespuestaDIOS = input(\"\")\n",
        "      print(\"DIOS🙏:  Jaja el klo weon, aún no es automatica la wea😂, teni que buscar el boton pa empezar de nuevo\")\n",
        "\n",
        "  else:\n",
        "    print(\"DIOS🙏:  Nooo man la cagaste po wn, pusiste algo nada que ver 🤦‍♂️, vas a tener que empezar de nuevo\")\n",
        "    print(\"DIOS🙏:  Bueno, quizas fué lo mejor, se veía muy sospechoso ese BOT😰\")\n",
        "    print(\"DIOS🙏:  A bueno que importa, para empezar de nuevo escribe cualquier cosa\")\n",
        "    RespuestaDIOS = input(\"\")\n",
        "    print(\"DIOS🙏:  Jaja el klo weon, aún no es automatica la wea😂, teni que buscar el boton pa empezar de nuevo\")\n",
        "\n",
        "else:\n",
        "  print(\"DIOS🙏:  Nooo man la cagaste po wn, pusiste algo nada que ver 🤦‍♂️, vas a tener que empezar de nuevo\")\n",
        "  print(\"DIOS🙏:  escribe cualquier cosa para empezar de nuevo\")\n",
        "  RespuestaDIOS = input(\"\")\n",
        "  print(\"DIOS🙏:  Jaja el klo weon, aún no es automatica la wea😂, teni que buscar el boton pa empezar de nuevo\")\n",
        "#////////////////////////////////////////////////////////////////////////////////////////////////////////////////////"
      ],
      "execution_count": null,
      "outputs": []
    },
    {
      "cell_type": "markdown",
      "metadata": {
        "id": "T1690sh-uai0"
      },
      "source": [
        ""
      ]
    },
    {
      "cell_type": "markdown",
      "metadata": {
        "id": "_dR14p_quasv"
      },
      "source": [
        ""
      ]
    },
    {
      "cell_type": "markdown",
      "metadata": {
        "id": "oSOogefeua20"
      },
      "source": [
        ""
      ]
    },
    {
      "cell_type": "markdown",
      "metadata": {
        "id": "96-5DrI2ubAL"
      },
      "source": [
        ""
      ]
    },
    {
      "cell_type": "markdown",
      "metadata": {
        "id": "5HscgakRubMh"
      },
      "source": [
        "**TEST**"
      ]
    },
    {
      "cell_type": "code",
      "metadata": {
        "id": "DCZIs2llueUU"
      },
      "source": [
        "#def blanco_negro(im,grisBase):\n",
        "#    tiempoIn = time.time()\n",
        "#    ruta = (\"C:/Users/e x a i d e n/Desktop/wea/\" + im)\n",
        "#    im = Image.open(ruta)\n",
        "#    im.show()\n",
        "#    im7 = im\n",
        "#    i = 0\n",
        "#    while i < im7.size[0]:\n",
        "#        j = 0\n",
        "#        while j < im7.size[1]:\n",
        "#            r, g, b = im7.getpixel((i,j))\n",
        "#            gris = (r + g + b) / 3\n",
        "#            if gris < grisBase:\n",
        "#                im7.putpixel((i,j), (0,0,0))\n",
        "#            else:\n",
        "#                im7.putpixel((i,j), (255,255,255))\n",
        "#            j+=1\n",
        "#        i+=1\n",
        "#    im7.show()\n",
        "#    tiempoFin = time.time()\n",
        "#    print('El Proceso Tardo: ', tiempoFin - tiempoIn, 'Segundos')"
      ],
      "execution_count": null,
      "outputs": []
    },
    {
      "cell_type": "code",
      "metadata": {
        "id": "nLs3bbAq0LR3"
      },
      "source": [
        "#HACER CAGAR LA RAM (CUIDAO)\n",
        "\n",
        "a = []\n",
        "while True:\n",
        "  a.append(1)"
      ],
      "execution_count": null,
      "outputs": []
    }
  ]
}