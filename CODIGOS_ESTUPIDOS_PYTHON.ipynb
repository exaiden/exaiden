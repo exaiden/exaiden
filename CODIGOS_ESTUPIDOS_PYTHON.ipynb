{
  "nbformat": 4,
  "nbformat_minor": 0,
  "metadata": {
    "colab": {
      "name": "CODIGOS ESTUPIDOS PYTHON.ipynb",
      "provenance": [],
      "authorship_tag": "ABX9TyObT2lv5fEi0mcGBd8Ug69a",
      "include_colab_link": true
    },
    "kernelspec": {
      "name": "python3",
      "display_name": "Python 3"
    },
    "language_info": {
      "name": "python"
    }
  },
  "cells": [
    {
      "cell_type": "markdown",
      "metadata": {
        "id": "view-in-github",
        "colab_type": "text"
      },
      "source": [
        "<a href=\"https://colab.research.google.com/github/exaiden/exaiden/blob/main/CODIGOS_ESTUPIDOS_PYTHON.ipynb\" target=\"_parent\"><img src=\"https://colab.research.google.com/assets/colab-badge.svg\" alt=\"Open In Colab\"/></a>"
      ]
    },
    {
      "cell_type": "markdown",
      "metadata": {
        "id": "O_IYodWxN6aw"
      },
      "source": [
        "**⬇⬇⬇CALCULADORA SIMPLE⬇⬇⬇**"
      ]
    },
    {
      "cell_type": "code",
      "metadata": {
        "colab": {
          "base_uri": "https://localhost:8080/"
        },
        "id": "lk5buwKLKCF2",
        "outputId": "4552641e-d148-4905-fec8-15cea5f9eaaf"
      },
      "source": [
        "operations = [\"+\", \"-\", \"*\", \"/\"]\n",
        "otros = [\"a\", \"b\", \"c\", \"d\", \"e\", \"f\", \"g\", \"h\", \"i\", \"j\", \"k\", \"l\", \"m\", \"n\",\n",
        "         \"ñ\", \"o\", \"p\", \"q\", \"r\", \"s\", \"t\", \"u\", \"v\", \"w\", \"x\", \"y\", \"z\", \"!\",\n",
        "         \"#\", \"$\", \"%\", \"&\", \"(\", \")\", \"=\", \"'\", \"?\", \"¿\", \"¡\", \"}\", \"]\", \"{\",\n",
        "         \"[\", \"_\", \"´\", \"¨\"]\n",
        "print(\"CALCULADORA SIMPLE\")\n",
        "\n",
        "num1 = input(\"Ingresa un número:  \")\n",
        "print(\"|\")\n",
        "op = input(\"Ingresa el tipo de operación (+ - * /):  \")\n",
        "print(\"|\")\n",
        "num2 = input(\"Ingresa otro numero:  \")\n",
        "print(\"|\")\n",
        "if num1 in otros:\n",
        "  print(\"☠##ERROR##☠\") \n",
        "  print(\"NO UTILIZASTE NÚMEROS\")\n",
        "elif num2 in otros:\n",
        "  print(\"☠##ERROR##☠\") \n",
        "  print(\"NO UTILIZASTE NÚMEROS\")\n",
        "else:\n",
        "  res1 = float (num1) + float (num2)\n",
        "  res2 = float (num1) - float (num2)\n",
        "  res3 = float (num1) * float (num2)\n",
        "  res4 = float (num1) / float (num2)\n",
        "\n",
        "  if op == operations[0]:\n",
        "    print(\"La operacion es: \", num1, op, num2  )\n",
        "    print(\"|\")\n",
        "    print(\"El resultado es: \", res1)\n",
        "  elif op == operations[1]:\n",
        "    print(\"La operacion es: \", num1, op, num2  )\n",
        "    print(\"|\")\n",
        "    print(\"El resultado es: \", res2)\n",
        "  elif op == operations[2]:\n",
        "    print(\"La operacion es: \", num1, op, num2  )\n",
        "    print(\"|\")\n",
        "    print(\"El resultado es: \", res3)\n",
        "  elif op == operations[3]:\n",
        "    print(\"La operacion es: \", num1, op, num2  )\n",
        "    print(\"|\")\n",
        "    print(\"El resultado es: \", res4)\n",
        "  else:\n",
        "    print(\"☠##ERROR##☠\")  \n",
        "    print(\"POR FAVOR INGRESAR UNA OPERACION DISPONIBLE\")"
      ],
      "execution_count": 28,
      "outputs": [
        {
          "output_type": "stream",
          "text": [
            "CALCULADORA SIMPLE\n",
            "Ingresa un número:  25\n",
            "|\n",
            "Ingresa el tipo de operación (+ - * /):  /\n",
            "|\n",
            "Ingresa otro numero:  5\n",
            "|\n",
            "La operacion es:  25 / 5\n",
            "|\n",
            "El resultado es:  5.0\n"
          ],
          "name": "stdout"
        }
      ]
    },
    {
      "cell_type": "markdown",
      "metadata": {
        "id": "GwAWqMFbOfEC"
      },
      "source": [
        "**⬇⬇⬇⬇⬇CHAT⬇⬇⬇⬇⬇**"
      ]
    },
    {
      "cell_type": "code",
      "metadata": {
        "colab": {
          "base_uri": "https://localhost:8080/"
        },
        "id": "URkpwFJEOr0m",
        "outputId": "bd50a159-6466-4f2e-eeec-bc3d82155d23"
      },
      "source": [
        "#///////////////////////////////////////////////////////////////////////////////////////////\n",
        "\n",
        "# INGRESA TU NOMBRE\n",
        "nombre = input(\"Pone tu nombre luego po wn: \") \n",
        "\n",
        "# PRIMERA PREGUNDA\n",
        "PP = (f\"EL BOT:  Weeena po, {nombre} culiao, ¿cuanto tiempo ke no nos vemos wn?\")\n",
        "\n",
        "# SEGUNDA PREGUNTA\n",
        "SP = (\"EL BOT:  ¿y como esta la familia mi pana?\")\n",
        "\n",
        "# RESPUESTA PRIMERA PREGUNTA 1\n",
        "RPP1 = [\"no se\",                    #0\n",
        "        \"no se po\",                 #1\n",
        "        \"no se hermano\",            #2\n",
        "        \"no se hermanito\",          #3\n",
        "        \"no se ermano\",             #4\n",
        "        \"no se ermanito\",           #5\n",
        "        \"no se mano\",               #6\n",
        "        \"no se manito\",             #7\n",
        "        \"no se po hermano\",         #8\n",
        "        \"no se po hermanito\",       #9\n",
        "        \"no se po ermano\",          #10\n",
        "        \"no se po ermanito\",        #11\n",
        "        \"no se po mano\",            #12\n",
        "        \"no se po manito\",          #13\n",
        "        \"no se compa\",              #14\n",
        "        \"no se po compa\",           #15\n",
        "        \"no se po mi compa\",        #16\n",
        "        \"no se mi pana\",            #17\n",
        "        \"no se po mi pana\",         #18\n",
        "        \"no se man\",                #19\n",
        "        \"no se po man\",             #20\n",
        "        \"no me acuerdo\",            #21\n",
        "        \"no me acuerdo man\",        #22\n",
        "        \"no me acuerdo wn\",         #23\n",
        "        \"no se po wn\",              #24\n",
        "        \"no se wn\"                  #25\n",
        "]\n",
        "\n",
        "# RESPUESTA PRIMERA PREGUNTA 2\n",
        "RPP2 = [\"caleta\",                   #1\n",
        "        \"caleta wn\",                #2\n",
        "        \"caleta hermano\",           #3\n",
        "        \"caleta hermanito\",         #4\n",
        "        \"caleta ermano\",            #5\n",
        "        \"caleta ermanito\",          #6\n",
        "        \"caleta mano\",              #7\n",
        "        \"caleta manito\",            #8\n",
        "        \"caleta mi pana\",           #9\n",
        "        \"hace caleta\",              #10\n",
        "        \"hace caleta wn\",           #11\n",
        "        \"hace caleta hermano\",      #12\n",
        "        \"hace caleta hermanito\",    #13\n",
        "        \"hace caleta ermano\",       #14\n",
        "        \"hace caleta ermanito\",     #15\n",
        "        \"hace caleta mano\",         #16\n",
        "        \"hace caleta manito\",       #17\n",
        "        \"hace caleta mi pana\",      #18\n",
        "        \"hace mucho\",               #19\n",
        "        \"hace mucho wn\",            #20\n",
        "        \"hace mucho hermano\",       #21\n",
        "        \"hace mucho hermanito\",     #22\n",
        "        \"hace mucho ermano\",        #23\n",
        "        \"hace mucho ermanito\",      #24\n",
        "        \"hace mucho mano\",          #25\n",
        "        \"hace mucho manito\",        #26\n",
        "        \"hace mucho mi pana\",       #27\n",
        "        \"de caleta\",                #28\n",
        "        \"de caleta wn\",             #29\n",
        "        \"de caleta hermano\",        #30\n",
        "        \"de caleta hermanito\",      #31\n",
        "        \"de caleta ermano\",         #32\n",
        "        \"de caleta ermanito\",       #33\n",
        "        \"de caleta mano\",           #34\n",
        "        \"de caleta manito\",         #35\n",
        "        \"de caleta mi pana\",        #36\n",
        "        \"de hace caleta\",           #37\n",
        "        \"de hace caleta wn\",        #38\n",
        "        \"de hace caleta hermano\",   #39\n",
        "        \"de hace caleta hermanito\", #40\n",
        "        \"de hace caleta ermano\",    #41\n",
        "        \"de hace caleta ermanito\",  #42\n",
        "        \"de hace caleta mano\",      #43\n",
        "        \"de hace caleta manito\",    #44\n",
        "        \"de hace caleta mi pana\",   #45\n",
        "        \"de hace mucho\",            #46\n",
        "        \"de hace mucho wn\",         #47\n",
        "        \"de hace mucho hermano\",    #48\n",
        "        \"de hace mucho hermanito\",  #49\n",
        "        \"de hace mucho ermano\",     #50\n",
        "        \"de hace mucho ermanito\",   #51\n",
        "        \"de hace mucho mano\",       #52\n",
        "        \"de hace mucho manito\",     #53\n",
        "        \"de hace mucho mi pana\",    #54\n",
        "]\n",
        "\n",
        "# RESPUESTA SEGUNDA PREGUNTA 1\n",
        "RSP1 = [\"no se\",                    #0\n",
        "        \"no se po\",                 #1\n",
        "        \"no se hermano\",            #2\n",
        "        \"no se hermanito\",          #3\n",
        "        \"no se ermano\",             #4\n",
        "        \"no se ermanito\",           #5\n",
        "        \"no se mano\",               #6\n",
        "        \"no se manito\",             #7\n",
        "        \"no se po hermano\",         #8\n",
        "        \"no se po hermanito\",       #9\n",
        "        \"no se po ermano\",          #10\n",
        "        \"no se po ermanito\",        #11\n",
        "        \"no se po mano\",            #12\n",
        "        \"no se po manito\",          #13\n",
        "        \"no se compa\",              #14\n",
        "        \"no se po compa\",           #15\n",
        "        \"no se po mi compa\",        #16\n",
        "        \"no se mi pana\",            #17\n",
        "        \"no se po mi pana\",         #18\n",
        "        \"no se man\",                #19\n",
        "        \"no se po man\",             #20\n",
        "        \"no me acuerdo\",            #21\n",
        "        \"no me acuerdo man\",        #22\n",
        "        \"no me acuerdo wn\",         #23\n",
        "        \"no se po wn\"               #24\n",
        "]\n",
        "\n",
        "# RESPUESTA SEGUNDA PREGUNTA 2\n",
        "RSP2 = [\"bien\"]\n",
        "\n",
        "# LA PALABRA DE DIOS 🙏\n",
        "DIOS1 = \"DIOS🙏:  Nooo man la cagaste po wn, pusiste algo nada que ver 🤦‍♂️, vas a tener que empezar de nuevo\"\n",
        "DIOS2 = \"DIOS🙏:  escribe cualquier cosa para empezar de nuevo\"\n",
        "DIOS3 = \"DIOS🙏:  Jaja el klo weon, aún no es automatica la wea😂, teni que buscar el boton pa empezar de nuevo\"\n",
        "\n",
        "\n",
        "\n",
        "#PRIMERA PREGUNTA\n",
        "print(PP)\n",
        "Respuesta1 = input(f\"YO:  \")\n",
        "if Respuesta1 in RPP1:\n",
        "    print(\"EL BOT:  Txaaa ermano como tan asi?\")\n",
        "    print(\"EL BOT:  Ta belico el alsaimer parece🙄\")\n",
        "    print(\"EL BOT:  Tai peor ke mi tata wn\")\n",
        "    #SEGUNDA PREGUNTA\n",
        "    print(SP)\n",
        "    Respuesta2 = input(f\"YO:  \")\n",
        "    if Respuesta2 in RSP1:\n",
        "        print(\"EL BOT:  ¿me estai webiando?\")\n",
        "    elif Respuesta2 in RSP2:\n",
        "        print(\"EL BOT:  Weena\")\n",
        "    else:\n",
        "        print(DIOS1)\n",
        "        print(DIOS2)\n",
        "        RespuestaDIOS = input(f\"YO:  \")\n",
        "        print(DIOS3)\n",
        "elif Respuesta1 in RPP2:\n",
        "    print(\"EL BOT:  siono?, ha pasao caleta wn\")\n",
        "    print(\"EL BOT:  estai mas waton ahora mi pana😂\")\n",
        "    #SEGUNDA PREGUNTA\n",
        "    print(SP)\n",
        "    Respuesta2 = input(f\"YO:  \")\n",
        "    if Respuesta2 in RSP1:\n",
        "        print(\"EL BOT:  ¿me estai webiando?\")\n",
        "    elif Respuesta2 in RSP2:\n",
        "        print(\"EL BOT:  Weena\")\n",
        "    else:\n",
        "        print(DIOS1)\n",
        "        print(DIOS2)\n",
        "        RespuestaDIOS = input(f\"YO:  \")\n",
        "        print(DIOS3)\n",
        "else:\n",
        "  print(DIOS1)\n",
        "  print(DIOS2)\n",
        "  RespuestaDIOS = input(f\"YO:  \")\n",
        "  print(DIOS3)"
      ],
      "execution_count": 81,
      "outputs": [
        {
          "output_type": "stream",
          "text": [
            "Pone tu nombre luego po wn: Sacowea\n",
            "EL BOT:  Weeena po, Sacowea culiao, ¿cuanto tiempo ke no nos vemos wn?\n",
            "YO:  caleta\n",
            "EL BOT:  siono\n",
            "EL BOT:  ¿y como esta la familia mi pana?\n",
            "YO:  d\n",
            "DIOS🙏:  Nooo man la cagaste po wn, pusiste algo nada que ver 🤦‍♂️, vas a tener que empezar de nuevo\n",
            "DIOS🙏:  escribe cualquier cosa para empezar de nuevo\n",
            "YO:  d\n",
            "DIOS🙏:  Jaja el klo weon, aún no es automatica la wea😂, teni que buscar el boton pa empezar de nuevo\n"
          ],
          "name": "stdout"
        }
      ]
    },
    {
      "cell_type": "markdown",
      "metadata": {
        "id": "W0_aCRs8dPyg"
      },
      "source": [
        "**⬇⬇⬇⬇⬇RECONOCEDOR⬇⬇⬇⬇⬇**"
      ]
    },
    {
      "cell_type": "code",
      "metadata": {
        "colab": {
          "base_uri": "https://localhost:8080/"
        },
        "id": "NGcIjX8Wda3R",
        "outputId": "4683c904-126e-42bd-974f-b4566f3fd8de"
      },
      "source": [
        "Y_N = [\"si\", \"no\"]\n",
        "\n",
        "nombre = input(\"Introduce tu nombre:  \")\n",
        "animal = input(\"Introduce a tu animal:  \")\n",
        "color = input(\"Introduce el color de tu animal:  \")\n",
        "print(f\"EL BOT:  Ah, este es el {animal} de {nombre}\")\n",
        "print(f\"EL BOT:  Tiene un bonito color {color}\")\n",
        "print(f\"EL BOT:  ¿Puedo acariciar a tu {animal}?\")\n",
        "Respuesta1 = input(\"\")\n",
        "if Respuesta1 == Y_N[0]:\n",
        "  print(f\"EL BOT:  *acaricia a tu {animal}*😍\" )\n",
        "  print(f\"TU {animal}:  *Huele la mano del bot*\")\n",
        "  print(f\"TU {animal}:  ¿QUE WEA? *se enoja*\")\n",
        "  print(f\"TU {animal}:  *Muerde la mano del bot*\")\n",
        "  print(\"EL BOT:  * Se muere*\")\n",
        "elif Respuesta1 == Y_N[1]:\n",
        "  print(f\"EL BOT:  *llora mirando a tu {animal}*😖\" )\n",
        "else:\n",
        "  print(\"#########ERROR########\")\n",
        "  print(\"DEBES ESCRIBIR SI O NO\")"
      ],
      "execution_count": 91,
      "outputs": [
        {
          "output_type": "stream",
          "text": [
            "Introduce tu nombre:  abril\n",
            "Introduce a tu animal:  gato\n",
            "Introduce el color de tu animal:  negro\n",
            "EL BOT:  Ah, este es el gato de abril\n",
            "EL BOT:  Tiene un bonito color negro\n",
            "EL BOT:  ¿Puedo acariciar a tu gato?\n",
            "no\n",
            "EL BOT:  *llora mirando a tu gato*😖\n"
          ],
          "name": "stdout"
        }
      ]
    }
  ]
}