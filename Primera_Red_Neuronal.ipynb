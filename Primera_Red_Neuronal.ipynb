{
  "nbformat": 4,
  "nbformat_minor": 0,
  "metadata": {
    "colab": {
      "name": "Primera Red Neuronal.ipynb",
      "provenance": [],
      "collapsed_sections": [],
      "authorship_tag": "ABX9TyN5Ku5YuJNmQZvMpTX043c9",
      "include_colab_link": true
    },
    "kernelspec": {
      "name": "python3",
      "display_name": "Python 3"
    },
    "language_info": {
      "name": "python"
    },
    "accelerator": "GPU"
  },
  "cells": [
    {
      "cell_type": "markdown",
      "metadata": {
        "id": "view-in-github",
        "colab_type": "text"
      },
      "source": [
        "<a href=\"https://colab.research.google.com/github/martin-aguilera/Trash-Can/blob/main/Primera_Red_Neuronal.ipynb\" target=\"_parent\"><img src=\"https://colab.research.google.com/assets/colab-badge.svg\" alt=\"Open In Colab\"/></a>"
      ]
    },
    {
      "cell_type": "code",
      "metadata": {
        "cellView": "form",
        "id": "xF5letwc9Pmg"
      },
      "source": [
        "#@title Importar librerias\n",
        "import tensorflow as tf\n",
        "import numpy as np\n",
        "import matplotlib.pyplot as plt"
      ],
      "execution_count": 52,
      "outputs": []
    },
    {
      "cell_type": "code",
      "metadata": {
        "cellView": "form",
        "id": "-aseAW2S9bGe"
      },
      "source": [
        "#@title Variables de entrenamiento\n",
        "celsius    = np.array([-200, -175, -150, -125, -100,  -75, -50, -25,  0, 25,  50,  75, 100, 125, 150, 175, 200], dtype = float)\n",
        "fahrenheit = np.array([-328, -283, -238, -193, -148, -103, -58, -13, 32, 77, 122, 167, 212, 257, 302, 347, 392], dtype = float)"
      ],
      "execution_count": 53,
      "outputs": []
    },
    {
      "cell_type": "code",
      "metadata": {
        "cellView": "form",
        "id": "isiRHlF99eXj"
      },
      "source": [
        "#@title Aquí se crean las capas de las redes neuronales\n",
        "ocular1 = tf.keras.layers.Dense(units=3, input_shape=[1])\n",
        "ocular2 = tf.keras.layers.Dense(units=3)\n",
        "salida = tf.keras.layers.Dense(units=1)\n",
        "modelo = tf.keras.Sequential([ocular1, ocular2, salida])"
      ],
      "execution_count": 54,
      "outputs": []
    },
    {
      "cell_type": "code",
      "metadata": {
        "cellView": "form",
        "id": "vQEPY6Qf9l7I"
      },
      "source": [
        "#@title Aquí se compila el modelo de entrenamiento\n",
        "modelo.compile(\n",
        "    optimizer=tf.keras.optimizers.Adam(0.1),\n",
        "    loss='mean_squared_error'\n",
        ")"
      ],
      "execution_count": 55,
      "outputs": []
    },
    {
      "cell_type": "code",
      "metadata": {
        "cellView": "form",
        "id": "2CiT9tuE9o-a"
      },
      "source": [
        "#@title **¡¡¡EMPEZAR EL ENTRENAMIENTO!!!**\n",
        "print('Comenzando entrenamiento...')\n",
        "historial = modelo.fit(celsius, fahrenheit, epochs=1000, verbose=False)\n",
        "print('Modelo entrenado!')"
      ],
      "execution_count": null,
      "outputs": []
    },
    {
      "cell_type": "code",
      "metadata": {
        "cellView": "form",
        "id": "z0HU1oAg9yCl"
      },
      "source": [
        "#@title Muestra un gráfico indicando la cantidad de errores que hubieron\n",
        "plt.xlabel('# Epoca')\n",
        "plt.ylabel('Magnitud de perdida')\n",
        "plt.plot(historial.history['loss'])"
      ],
      "execution_count": null,
      "outputs": []
    },
    {
      "cell_type": "code",
      "metadata": {
        "cellView": "form",
        "id": "EvVHQqYu-B7A"
      },
      "source": [
        "#@title **Pon a prueba la prediccion**\n",
        "print('\\nHagamos una prediccion!\\n')\n",
        "print('Escribe los grados Celsius:')\n",
        "wea = float(input())\n",
        "resultado = modelo.predict([wea])\n",
        "print('\\nEl resultado de ' + str(wea) + '°C es ' + str(resultado) + '°F\\n')"
      ],
      "execution_count": null,
      "outputs": []
    }
  ]
}